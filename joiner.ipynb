{
 "metadata": {
  "language_info": {
   "codemirror_mode": {
    "name": "ipython",
    "version": 3
   },
   "file_extension": ".py",
   "mimetype": "text/x-python",
   "name": "python",
   "nbconvert_exporter": "python",
   "pygments_lexer": "ipython3",
   "version": "3.9.1"
  },
  "orig_nbformat": 2,
  "kernelspec": {
   "name": "python391jvsc74a57bd04a654ae1f7323e7ac90336395afbf1c46c5d543ea50f15637af34a60556d0f0d",
   "display_name": "Python 3.9.1 64-bit ('csv-joiner-YyhJDGoH-py3.9': venv)"
  },
  "metadata": {
   "interpreter": {
    "hash": "4a654ae1f7323e7ac90336395afbf1c46c5d543ea50f15637af34a60556d0f0d"
   }
  }
 },
 "nbformat": 4,
 "nbformat_minor": 2,
 "cells": [
  {
   "source": [
    "## xlsx joiner\n",
    "\n",
    "Scipt to read xlsx files and join them as a simple csv"
   ],
   "cell_type": "markdown",
   "metadata": {}
  },
  {
   "cell_type": "code",
   "execution_count": 8,
   "metadata": {},
   "outputs": [],
   "source": [
    "import datetime\n",
    "import os\n",
    "import re\n",
    "\n",
    "import pandas"
   ]
  },
  {
   "source": [
    "### File read and filter\n"
   ],
   "cell_type": "markdown",
   "metadata": {}
  },
  {
   "cell_type": "code",
   "execution_count": 9,
   "metadata": {},
   "outputs": [],
   "source": [
    "def get_xlsx_files(directory):\n",
    "    files_extension = \"xlsx\"\n",
    "    current_path = os.getcwd()\n",
    "    xlsx_files = list()\n",
    "    year_dirs = os.listdir(f\"{current_path}/{directory_name}\")\n",
    "    year_dirs.sort()\n",
    "    for year_dir in year_dirs:\n",
    "        file_names = os.listdir(f\"{current_path}/{directory_name}/{year_dir}\")\n",
    "        file_names.sort()\n",
    "        for file_name in file_names:\n",
    "            if re.match(\".*\\.xlsx$\", file_name):\n",
    "                xlsx_files.append(\n",
    "                    f\"{current_path}/{directory_name}/{year_dir}/{file_name}\"\n",
    "                )\n",
    "    return xlsx_files\n"
   ]
  },
  {
   "cell_type": "code",
   "execution_count": 10,
   "metadata": {},
   "outputs": [],
   "source": [
    "def get_volume_df(filepath):\n",
    "    volume = pandas.read_excel(filepath, engine='openpyxl', sheet_name=0)\n",
    "    # Remove first usless header\n",
    "    df = volume.drop([0])\n",
    "    df.columns = range(df.shape[1])\n",
    "\n",
    "    def get_street_id(x):\n",
    "        match =  re.search('^(.*) \\|', x)\n",
    "        if match:\n",
    "            return match.group(1)\n",
    "\n",
    "    # Get header rows and fill null values\n",
    "    headers = df[0:3].copy()\n",
    "    headers.iloc[0] = headers.iloc[0].apply(lambda x: None if x == \"Total\" else x)\n",
    "    headers = headers.apply(lambda x: x.ffill(), axis=1)\n",
    "    headers.iloc[1] = headers.iloc[1].apply(get_street_id)\n",
    "\n",
    "    cameras = df.iloc[3].fillna(\"Total\")\n",
    "\n",
    "    # Concatenate all headers in one row\n",
    "    headers = headers.append(cameras)\n",
    "    column_names = headers.loc[1] + \"_\" + headers.loc[2] + \" \" +headers.loc[4]\n",
    "    column_names[0] = \"date\"\n",
    "    column_names[1] = \"time\"\n",
    "    values = df[[isinstance(x, datetime.datetime) for x in df[0]]].copy()\n",
    "    values.columns = column_names\n",
    "    values.reset_index(inplace=True, drop=True)\n",
    "    values['date'] = [d.date() for d in values['date']]\n",
    "    return values"
   ]
  },
  {
   "cell_type": "code",
   "execution_count": 11,
   "metadata": {},
   "outputs": [],
   "source": [
    "def get_speed_df(filepath):\n",
    "    speed = pandas.read_excel(filepath, engine='openpyxl', sheet_name=1)\n",
    "    df = speed.drop([0])\n",
    "    df.columns = range(df.shape[1])\n",
    "    df = df.transpose()\n",
    "    values = df[[isinstance(x, datetime.datetime) for x in df[1]]].copy()\n",
    "    column_names = df.iloc[0].apply(lambda x: \"V_\" + str(x))\n",
    "    column_names[1] = \"datetime\"\n",
    "    values.columns = column_names\n",
    "    values['date'] = [d.date() for d in values['datetime']]\n",
    "    values['time'] = [d.time() for d in values['datetime']]\n",
    "    del values[\"datetime\"]\n",
    "    return values\n",
    "\n"
   ]
  },
  {
   "cell_type": "code",
   "execution_count": 12,
   "metadata": {},
   "outputs": [],
   "source": [
    "def get_volume_and_speed_df(filename):\n",
    "    volume_df = get_volume_df(filename)\n",
    "    speed_df = get_speed_df(filename)\n",
    "    merged = volume_df.merge(\n",
    "        speed_df,\n",
    "        how=\"left\",\n",
    "        left_on=[\"date\", \"time\"],\n",
    "        right_on=[\"date\", \"time\"]\n",
    "    )\n",
    "    return merged"
   ]
  },
  {
   "cell_type": "code",
   "execution_count": 13,
   "metadata": {},
   "outputs": [
    {
     "output_type": "execute_result",
     "data": {
      "text/plain": [
       "           date      time EJE 2 SUR_1 C1 EJE 2 SUR_1 C2 EJE 2 SUR_1 C3  \\\n",
       "0    2016-01-01  00:00:00              0            799             14   \n",
       "1    2016-01-01  01:00:00              0           1193             39   \n",
       "2    2016-01-01  02:00:00              0            783             30   \n",
       "3    2016-01-01  03:00:00              0            759             13   \n",
       "4    2016-01-01  04:00:00              0            438              6   \n",
       "..          ...       ...            ...            ...            ...   \n",
       "739  2016-01-31  19:00:00              0           1055            205   \n",
       "740  2016-01-31  20:00:00              0           1115            232   \n",
       "741  2016-01-31  21:00:00              0           1021            164   \n",
       "742  2016-01-31  22:00:00              0            833            158   \n",
       "743  2016-01-31  23:00:00              0            823            129   \n",
       "\n",
       "    EJE 2 SUR_1 C4 EJE 2 SUR_1 C5 EJE 2 SUR_1 C6 EJE 2 SUR_1 Total  \\\n",
       "0                3              5              0               821   \n",
       "1               12             14              0              1258   \n",
       "2                2             21             49               885   \n",
       "3                4             34              0               810   \n",
       "4                6             23              0               473   \n",
       "..             ...            ...            ...               ...   \n",
       "739            191             85            620              2156   \n",
       "740            158             96            564              2165   \n",
       "741            194             87            506              1972   \n",
       "742            121             44            276              1432   \n",
       "743             91             29            129              1201   \n",
       "\n",
       "    EJE 2 SUR_2 C1  ...  V_332  V_333  V_334  V_335  V_336  V_337  V_338  \\\n",
       "0              332  ...  43.91  46.74  35.99  84.28  42.45  41.33  42.93   \n",
       "1              464  ...     41   47.2  34.93   79.3  42.35  37.31  41.39   \n",
       "2              418  ...   39.1  44.91  36.19  78.01  42.37  37.48  40.71   \n",
       "3              332  ...  41.72  42.78  34.56  74.33  41.05  38.74  42.16   \n",
       "4              256  ...  41.23  44.46  61.08  76.26  39.94   41.8  42.13   \n",
       "..             ...  ...    ...    ...    ...    ...    ...    ...    ...   \n",
       "739            871  ...  41.31  48.36  45.88  63.39  45.77  28.59  36.61   \n",
       "740            735  ...  41.68  47.28  34.56   60.9   45.3  33.09  37.48   \n",
       "741            711  ...  42.17  48.36  41.17  64.16  48.79  32.18  40.06   \n",
       "742            535  ...  39.83  43.07  47.16  68.94  49.09  33.75   40.8   \n",
       "743            379  ...  41.94  46.69  32.92  66.72   45.6  38.32   41.5   \n",
       "\n",
       "     V_339  V_340  V_341  \n",
       "0    40.27  48.75   51.7  \n",
       "1    38.03  45.38  52.25  \n",
       "2    36.35  46.73  50.09  \n",
       "3    36.89  46.43  49.99  \n",
       "4    38.74  47.27  50.91  \n",
       "..     ...    ...    ...  \n",
       "739   35.9  42.66  49.45  \n",
       "740   36.6  44.43  50.49  \n",
       "741  37.59  45.14   50.7  \n",
       "742  36.83  45.66   51.4  \n",
       "743  36.11  46.97  52.45  \n",
       "\n",
       "[744 rows x 2747 columns]"
      ],
      "text/html": "<div>\n<style scoped>\n    .dataframe tbody tr th:only-of-type {\n        vertical-align: middle;\n    }\n\n    .dataframe tbody tr th {\n        vertical-align: top;\n    }\n\n    .dataframe thead th {\n        text-align: right;\n    }\n</style>\n<table border=\"1\" class=\"dataframe\">\n  <thead>\n    <tr style=\"text-align: right;\">\n      <th></th>\n      <th>date</th>\n      <th>time</th>\n      <th>EJE 2 SUR_1 C1</th>\n      <th>EJE 2 SUR_1 C2</th>\n      <th>EJE 2 SUR_1 C3</th>\n      <th>EJE 2 SUR_1 C4</th>\n      <th>EJE 2 SUR_1 C5</th>\n      <th>EJE 2 SUR_1 C6</th>\n      <th>EJE 2 SUR_1 Total</th>\n      <th>EJE 2 SUR_2 C1</th>\n      <th>...</th>\n      <th>V_332</th>\n      <th>V_333</th>\n      <th>V_334</th>\n      <th>V_335</th>\n      <th>V_336</th>\n      <th>V_337</th>\n      <th>V_338</th>\n      <th>V_339</th>\n      <th>V_340</th>\n      <th>V_341</th>\n    </tr>\n  </thead>\n  <tbody>\n    <tr>\n      <th>0</th>\n      <td>2016-01-01</td>\n      <td>00:00:00</td>\n      <td>0</td>\n      <td>799</td>\n      <td>14</td>\n      <td>3</td>\n      <td>5</td>\n      <td>0</td>\n      <td>821</td>\n      <td>332</td>\n      <td>...</td>\n      <td>43.91</td>\n      <td>46.74</td>\n      <td>35.99</td>\n      <td>84.28</td>\n      <td>42.45</td>\n      <td>41.33</td>\n      <td>42.93</td>\n      <td>40.27</td>\n      <td>48.75</td>\n      <td>51.7</td>\n    </tr>\n    <tr>\n      <th>1</th>\n      <td>2016-01-01</td>\n      <td>01:00:00</td>\n      <td>0</td>\n      <td>1193</td>\n      <td>39</td>\n      <td>12</td>\n      <td>14</td>\n      <td>0</td>\n      <td>1258</td>\n      <td>464</td>\n      <td>...</td>\n      <td>41</td>\n      <td>47.2</td>\n      <td>34.93</td>\n      <td>79.3</td>\n      <td>42.35</td>\n      <td>37.31</td>\n      <td>41.39</td>\n      <td>38.03</td>\n      <td>45.38</td>\n      <td>52.25</td>\n    </tr>\n    <tr>\n      <th>2</th>\n      <td>2016-01-01</td>\n      <td>02:00:00</td>\n      <td>0</td>\n      <td>783</td>\n      <td>30</td>\n      <td>2</td>\n      <td>21</td>\n      <td>49</td>\n      <td>885</td>\n      <td>418</td>\n      <td>...</td>\n      <td>39.1</td>\n      <td>44.91</td>\n      <td>36.19</td>\n      <td>78.01</td>\n      <td>42.37</td>\n      <td>37.48</td>\n      <td>40.71</td>\n      <td>36.35</td>\n      <td>46.73</td>\n      <td>50.09</td>\n    </tr>\n    <tr>\n      <th>3</th>\n      <td>2016-01-01</td>\n      <td>03:00:00</td>\n      <td>0</td>\n      <td>759</td>\n      <td>13</td>\n      <td>4</td>\n      <td>34</td>\n      <td>0</td>\n      <td>810</td>\n      <td>332</td>\n      <td>...</td>\n      <td>41.72</td>\n      <td>42.78</td>\n      <td>34.56</td>\n      <td>74.33</td>\n      <td>41.05</td>\n      <td>38.74</td>\n      <td>42.16</td>\n      <td>36.89</td>\n      <td>46.43</td>\n      <td>49.99</td>\n    </tr>\n    <tr>\n      <th>4</th>\n      <td>2016-01-01</td>\n      <td>04:00:00</td>\n      <td>0</td>\n      <td>438</td>\n      <td>6</td>\n      <td>6</td>\n      <td>23</td>\n      <td>0</td>\n      <td>473</td>\n      <td>256</td>\n      <td>...</td>\n      <td>41.23</td>\n      <td>44.46</td>\n      <td>61.08</td>\n      <td>76.26</td>\n      <td>39.94</td>\n      <td>41.8</td>\n      <td>42.13</td>\n      <td>38.74</td>\n      <td>47.27</td>\n      <td>50.91</td>\n    </tr>\n    <tr>\n      <th>...</th>\n      <td>...</td>\n      <td>...</td>\n      <td>...</td>\n      <td>...</td>\n      <td>...</td>\n      <td>...</td>\n      <td>...</td>\n      <td>...</td>\n      <td>...</td>\n      <td>...</td>\n      <td>...</td>\n      <td>...</td>\n      <td>...</td>\n      <td>...</td>\n      <td>...</td>\n      <td>...</td>\n      <td>...</td>\n      <td>...</td>\n      <td>...</td>\n      <td>...</td>\n      <td>...</td>\n    </tr>\n    <tr>\n      <th>739</th>\n      <td>2016-01-31</td>\n      <td>19:00:00</td>\n      <td>0</td>\n      <td>1055</td>\n      <td>205</td>\n      <td>191</td>\n      <td>85</td>\n      <td>620</td>\n      <td>2156</td>\n      <td>871</td>\n      <td>...</td>\n      <td>41.31</td>\n      <td>48.36</td>\n      <td>45.88</td>\n      <td>63.39</td>\n      <td>45.77</td>\n      <td>28.59</td>\n      <td>36.61</td>\n      <td>35.9</td>\n      <td>42.66</td>\n      <td>49.45</td>\n    </tr>\n    <tr>\n      <th>740</th>\n      <td>2016-01-31</td>\n      <td>20:00:00</td>\n      <td>0</td>\n      <td>1115</td>\n      <td>232</td>\n      <td>158</td>\n      <td>96</td>\n      <td>564</td>\n      <td>2165</td>\n      <td>735</td>\n      <td>...</td>\n      <td>41.68</td>\n      <td>47.28</td>\n      <td>34.56</td>\n      <td>60.9</td>\n      <td>45.3</td>\n      <td>33.09</td>\n      <td>37.48</td>\n      <td>36.6</td>\n      <td>44.43</td>\n      <td>50.49</td>\n    </tr>\n    <tr>\n      <th>741</th>\n      <td>2016-01-31</td>\n      <td>21:00:00</td>\n      <td>0</td>\n      <td>1021</td>\n      <td>164</td>\n      <td>194</td>\n      <td>87</td>\n      <td>506</td>\n      <td>1972</td>\n      <td>711</td>\n      <td>...</td>\n      <td>42.17</td>\n      <td>48.36</td>\n      <td>41.17</td>\n      <td>64.16</td>\n      <td>48.79</td>\n      <td>32.18</td>\n      <td>40.06</td>\n      <td>37.59</td>\n      <td>45.14</td>\n      <td>50.7</td>\n    </tr>\n    <tr>\n      <th>742</th>\n      <td>2016-01-31</td>\n      <td>22:00:00</td>\n      <td>0</td>\n      <td>833</td>\n      <td>158</td>\n      <td>121</td>\n      <td>44</td>\n      <td>276</td>\n      <td>1432</td>\n      <td>535</td>\n      <td>...</td>\n      <td>39.83</td>\n      <td>43.07</td>\n      <td>47.16</td>\n      <td>68.94</td>\n      <td>49.09</td>\n      <td>33.75</td>\n      <td>40.8</td>\n      <td>36.83</td>\n      <td>45.66</td>\n      <td>51.4</td>\n    </tr>\n    <tr>\n      <th>743</th>\n      <td>2016-01-31</td>\n      <td>23:00:00</td>\n      <td>0</td>\n      <td>823</td>\n      <td>129</td>\n      <td>91</td>\n      <td>29</td>\n      <td>129</td>\n      <td>1201</td>\n      <td>379</td>\n      <td>...</td>\n      <td>41.94</td>\n      <td>46.69</td>\n      <td>32.92</td>\n      <td>66.72</td>\n      <td>45.6</td>\n      <td>38.32</td>\n      <td>41.5</td>\n      <td>36.11</td>\n      <td>46.97</td>\n      <td>52.45</td>\n    </tr>\n  </tbody>\n</table>\n<p>744 rows × 2747 columns</p>\n</div>"
     },
     "metadata": {},
     "execution_count": 13
    }
   ],
   "source": [
    "directory_name = \"AFOROS\"\n",
    "\n",
    "xlsx_files = get_xlsx_files(directory_name)\n",
    "\n",
    "integrated_df = pandas.DataFrame()\n",
    "df = get_volume_and_speed_df(xlsx_files[0])\n",
    "df"
   ]
  }
 ]
}